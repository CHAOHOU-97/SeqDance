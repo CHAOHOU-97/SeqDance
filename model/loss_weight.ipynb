{
 "cells": [
  {
   "cell_type": "code",
   "execution_count": 1,
   "metadata": {},
   "outputs": [],
   "source": [
    "import pandas as pd\n",
    "import numpy as np\n",
    "from config import config\n",
    "import h5py"
   ]
  },
  {
   "cell_type": "code",
   "execution_count": null,
   "metadata": {},
   "outputs": [],
   "source": [
    "df = pd.read_csv(config['file_path']['train_df_path'])\n",
    "h5py_read = h5py.File(config['file_path']['h5py_path'], 'r')\n",
    "pair_idx = {'vdw':0, 'hbbb':1, 'hbsb':2, 'hbss':3, 'hp':4, 'sb':5, 'pc':6, 'ps':7, 'ts':8, 'corr':9}"
   ]
  },
  {
   "cell_type": "code",
   "execution_count": 75,
   "metadata": {},
   "outputs": [],
   "source": [
    "def get_feature_dict(res_feat, pair_feat, pair_idx, source):\n",
    "    feat_all = {}\n",
    "    if 'proteinflow' not in source:\n",
    "        rmsf_feat = res_feat[:, 2]\n",
    "        valid_mask = (rmsf_feat != -1)\n",
    "\n",
    "        feat_all['rmsf_nor'] = (rmsf_feat / rmsf_feat.max())[valid_mask]\n",
    "        feat_all['sasa_mean'] = res_feat[:, 0][valid_mask]\n",
    "        feat_all['sasa_std'] = res_feat[:, 1][valid_mask]\n",
    "        feat_all['ss'] = res_feat[:, 3:11][valid_mask]\n",
    "        feat_all['chi'] = res_feat[:, 11:23][valid_mask]\n",
    "        feat_all['phi'] = res_feat[:, 23:35][valid_mask]\n",
    "        feat_all['psi'] = res_feat[:, 35:47][valid_mask]\n",
    "\n",
    "        for i in pair_idx:\n",
    "            f = pair_feat[:, :, pair_idx[i]]\n",
    "            feat_all[i] = f[f != -1]\n",
    "\n",
    "    else:\n",
    "        for k in range(3):\n",
    "            res_f = res_feat[:, k]\n",
    "            pair_f = pair_feat[:, :, k]\n",
    "            feat_all[f'nma_res{k+1}'] = res_f[res_f != -1]\n",
    "            feat_all[f'nma_pair{k+1}'] = pair_f[pair_f != -1] \n",
    "\n",
    "    return feat_all"
   ]
  },
  {
   "cell_type": "code",
   "execution_count": 95,
   "metadata": {},
   "outputs": [],
   "source": [
    "for i in df.index:\n",
    "    name = df.loc[i, 'name']\n",
    "    res_feat = h5py_read[f'{name}_res_feature'][:]\n",
    "    pair_feat = h5py_read[f'{name}_pair_feature'][:]\n",
    "\n",
    "    feat_all = get_feature_dict(res_feat, pair_feat, pair_idx, df.loc[i, 'source'])\n",
    "    \n",
    "    # print(i)\n",
    "    for j in feat_all:\n",
    "        if j in ['ss', 'chi', 'phi', 'psi']:\n",
    "            df.loc[i, j] = feat_all[j].var(axis=0).mean()\n",
    "        else:\n",
    "            df.loc[i, j] = ((feat_all[j] - feat_all[j].mean())**2).mean()"
   ]
  },
  {
   "cell_type": "code",
   "execution_count": 96,
   "metadata": {},
   "outputs": [],
   "source": [
    "df.to_csv('/nfs/user/Users/ch3849/ProDance/data_new/train_data_all/feature_var.csv', index=False)"
   ]
  },
  {
   "cell_type": "markdown",
   "metadata": {},
   "source": [
    "### get weights\n",
    "use RMSE as this value is comparable"
   ]
  },
  {
   "cell_type": "code",
   "execution_count": null,
   "metadata": {},
   "outputs": [],
   "source": [
    "df = pd.read_csv('/nfs/user/Users/ch3849/ProDance/data_new/train_data_all/feature_var.csv')\n",
    "# convert MSE to RMSE\n",
    "df.iloc[:,7:] = np.sqrt(df.iloc[:,7:])"
   ]
  },
  {
   "cell_type": "code",
   "execution_count": null,
   "metadata": {},
   "outputs": [],
   "source": [
    "rmse = df[df['label'] == 'train'][['source'] + list(df.columns[7:])].groupby('source').mean().T\n",
    "rmse['ATLAS_GPCRmd_PED_mdCATH'] = df[(df['label'] == 'train') & (df['source'].isin(['ATLAS', 'GPCRmd', 'PED', 'mdCATH']))].describe().loc['mean']\n",
    "rmse['Proteinflow'] = df[(df['label'] == 'train') & (df['source'].str.contains('proteinflow'))].describe().loc['mean']"
   ]
  },
  {
   "cell_type": "code",
   "execution_count": 19,
   "metadata": {},
   "outputs": [],
   "source": [
    "rmse.to_excel('/nfs/user/Users/ch3849/ProDance/data_new/train_data_all/source_feature_rmse.xlsx')"
   ]
  },
  {
   "cell_type": "markdown",
   "metadata": {},
   "source": [
    "### convert excel to csv"
   ]
  },
  {
   "cell_type": "code",
   "execution_count": 6,
   "metadata": {},
   "outputs": [],
   "source": [
    "loss_weight = pd.read_excel(config['file_path']['loss_weight'], index_col=0, sheet_name=1)"
   ]
  },
  {
   "cell_type": "code",
   "execution_count": 7,
   "metadata": {},
   "outputs": [],
   "source": [
    "loss_weight.to_csv('/nfs/user/Users/ch3849/ProDance/data_new/train_data_all/source_feature_rmse_weight.csv')"
   ]
  },
  {
   "cell_type": "code",
   "execution_count": 8,
   "metadata": {},
   "outputs": [
    {
     "data": {
      "text/html": [
       "<div>\n",
       "<style scoped>\n",
       "    .dataframe tbody tr th:only-of-type {\n",
       "        vertical-align: middle;\n",
       "    }\n",
       "\n",
       "    .dataframe tbody tr th {\n",
       "        vertical-align: top;\n",
       "    }\n",
       "\n",
       "    .dataframe thead th {\n",
       "        text-align: right;\n",
       "    }\n",
       "</style>\n",
       "<table border=\"1\" class=\"dataframe\">\n",
       "  <thead>\n",
       "    <tr style=\"text-align: right;\">\n",
       "      <th></th>\n",
       "      <th>ATLAS_GPCRmd_PED_mdCATH</th>\n",
       "      <th>IDRome</th>\n",
       "      <th>Proteinflow</th>\n",
       "    </tr>\n",
       "  </thead>\n",
       "  <tbody>\n",
       "    <tr>\n",
       "      <th>rmsf_nor</th>\n",
       "      <td>0.223793</td>\n",
       "      <td>0.330730</td>\n",
       "      <td>0.000000</td>\n",
       "    </tr>\n",
       "    <tr>\n",
       "      <th>sasa_mean</th>\n",
       "      <td>0.073041</td>\n",
       "      <td>0.085186</td>\n",
       "      <td>0.000000</td>\n",
       "    </tr>\n",
       "    <tr>\n",
       "      <th>sasa_std</th>\n",
       "      <td>0.322492</td>\n",
       "      <td>0.489036</td>\n",
       "      <td>0.000000</td>\n",
       "    </tr>\n",
       "    <tr>\n",
       "      <th>ss</th>\n",
       "      <td>0.150150</td>\n",
       "      <td>0.746969</td>\n",
       "      <td>0.000000</td>\n",
       "    </tr>\n",
       "    <tr>\n",
       "      <th>chi</th>\n",
       "      <td>0.303766</td>\n",
       "      <td>0.354448</td>\n",
       "      <td>0.000000</td>\n",
       "    </tr>\n",
       "    <tr>\n",
       "      <th>phi</th>\n",
       "      <td>0.296824</td>\n",
       "      <td>1.235156</td>\n",
       "      <td>0.000000</td>\n",
       "    </tr>\n",
       "    <tr>\n",
       "      <th>psi</th>\n",
       "      <td>0.243907</td>\n",
       "      <td>1.443703</td>\n",
       "      <td>0.000000</td>\n",
       "    </tr>\n",
       "    <tr>\n",
       "      <th>vdw</th>\n",
       "      <td>0.348042</td>\n",
       "      <td>0.430570</td>\n",
       "      <td>0.000000</td>\n",
       "    </tr>\n",
       "    <tr>\n",
       "      <th>hbbb</th>\n",
       "      <td>0.808236</td>\n",
       "      <td>1.058827</td>\n",
       "      <td>0.000000</td>\n",
       "    </tr>\n",
       "    <tr>\n",
       "      <th>hbsb</th>\n",
       "      <td>1.370723</td>\n",
       "      <td>1.248722</td>\n",
       "      <td>0.000000</td>\n",
       "    </tr>\n",
       "    <tr>\n",
       "      <th>hbss</th>\n",
       "      <td>1.649684</td>\n",
       "      <td>2.149983</td>\n",
       "      <td>0.000000</td>\n",
       "    </tr>\n",
       "    <tr>\n",
       "      <th>hp</th>\n",
       "      <td>1.253907</td>\n",
       "      <td>1.771494</td>\n",
       "      <td>0.000000</td>\n",
       "    </tr>\n",
       "    <tr>\n",
       "      <th>sb</th>\n",
       "      <td>2.270222</td>\n",
       "      <td>3.241234</td>\n",
       "      <td>0.000000</td>\n",
       "    </tr>\n",
       "    <tr>\n",
       "      <th>pc</th>\n",
       "      <td>3.565133</td>\n",
       "      <td>4.454829</td>\n",
       "      <td>0.000000</td>\n",
       "    </tr>\n",
       "    <tr>\n",
       "      <th>ps</th>\n",
       "      <td>9.039787</td>\n",
       "      <td>17.344838</td>\n",
       "      <td>0.000000</td>\n",
       "    </tr>\n",
       "    <tr>\n",
       "      <th>ts</th>\n",
       "      <td>11.854707</td>\n",
       "      <td>15.784302</td>\n",
       "      <td>0.000000</td>\n",
       "    </tr>\n",
       "    <tr>\n",
       "      <th>corr</th>\n",
       "      <td>0.588429</td>\n",
       "      <td>0.447994</td>\n",
       "      <td>0.000000</td>\n",
       "    </tr>\n",
       "    <tr>\n",
       "      <th>nma_res1</th>\n",
       "      <td>0.000000</td>\n",
       "      <td>0.000000</td>\n",
       "      <td>16.533815</td>\n",
       "    </tr>\n",
       "    <tr>\n",
       "      <th>nma_pair1</th>\n",
       "      <td>0.000000</td>\n",
       "      <td>0.000000</td>\n",
       "      <td>0.829644</td>\n",
       "    </tr>\n",
       "    <tr>\n",
       "      <th>nma_res2</th>\n",
       "      <td>0.000000</td>\n",
       "      <td>0.000000</td>\n",
       "      <td>16.533815</td>\n",
       "    </tr>\n",
       "    <tr>\n",
       "      <th>nma_pair2</th>\n",
       "      <td>0.000000</td>\n",
       "      <td>0.000000</td>\n",
       "      <td>1.594754</td>\n",
       "    </tr>\n",
       "    <tr>\n",
       "      <th>nma_res3</th>\n",
       "      <td>0.000000</td>\n",
       "      <td>0.000000</td>\n",
       "      <td>16.533815</td>\n",
       "    </tr>\n",
       "    <tr>\n",
       "      <th>nma_pair3</th>\n",
       "      <td>0.000000</td>\n",
       "      <td>0.000000</td>\n",
       "      <td>2.974789</td>\n",
       "    </tr>\n",
       "  </tbody>\n",
       "</table>\n",
       "</div>"
      ],
      "text/plain": [
       "           ATLAS_GPCRmd_PED_mdCATH     IDRome  Proteinflow\n",
       "rmsf_nor                  0.223793   0.330730     0.000000\n",
       "sasa_mean                 0.073041   0.085186     0.000000\n",
       "sasa_std                  0.322492   0.489036     0.000000\n",
       "ss                        0.150150   0.746969     0.000000\n",
       "chi                       0.303766   0.354448     0.000000\n",
       "phi                       0.296824   1.235156     0.000000\n",
       "psi                       0.243907   1.443703     0.000000\n",
       "vdw                       0.348042   0.430570     0.000000\n",
       "hbbb                      0.808236   1.058827     0.000000\n",
       "hbsb                      1.370723   1.248722     0.000000\n",
       "hbss                      1.649684   2.149983     0.000000\n",
       "hp                        1.253907   1.771494     0.000000\n",
       "sb                        2.270222   3.241234     0.000000\n",
       "pc                        3.565133   4.454829     0.000000\n",
       "ps                        9.039787  17.344838     0.000000\n",
       "ts                       11.854707  15.784302     0.000000\n",
       "corr                      0.588429   0.447994     0.000000\n",
       "nma_res1                  0.000000   0.000000    16.533815\n",
       "nma_pair1                 0.000000   0.000000     0.829644\n",
       "nma_res2                  0.000000   0.000000    16.533815\n",
       "nma_pair2                 0.000000   0.000000     1.594754\n",
       "nma_res3                  0.000000   0.000000    16.533815\n",
       "nma_pair3                 0.000000   0.000000     2.974789"
      ]
     },
     "execution_count": 8,
     "metadata": {},
     "output_type": "execute_result"
    }
   ],
   "source": [
    "pd.read_csv('/nfs/user/Users/ch3849/ProDance/data_new/train_data_all/source_feature_rmse_weight.csv', index_col=0)"
   ]
  },
  {
   "cell_type": "code",
   "execution_count": null,
   "metadata": {},
   "outputs": [],
   "source": []
  },
  {
   "cell_type": "code",
   "execution_count": null,
   "metadata": {},
   "outputs": [],
   "source": []
  },
  {
   "cell_type": "code",
   "execution_count": null,
   "metadata": {},
   "outputs": [],
   "source": []
  },
  {
   "cell_type": "code",
   "execution_count": null,
   "metadata": {},
   "outputs": [],
   "source": []
  }
 ],
 "metadata": {
  "kernelspec": {
   "display_name": "base",
   "language": "python",
   "name": "python3"
  },
  "language_info": {
   "codemirror_mode": {
    "name": "ipython",
    "version": 3
   },
   "file_extension": ".py",
   "mimetype": "text/x-python",
   "name": "python",
   "nbconvert_exporter": "python",
   "pygments_lexer": "ipython3",
   "version": "3.12.2"
  }
 },
 "nbformat": 4,
 "nbformat_minor": 2
}
