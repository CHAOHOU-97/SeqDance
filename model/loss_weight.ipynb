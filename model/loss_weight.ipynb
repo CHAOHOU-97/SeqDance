{
 "cells": [
  {
   "cell_type": "markdown",
   "metadata": {},
   "source": [
    "### using a baseline model that can \"predict\" the mean value for each dyanmic property, use the loss of the baseline model to adjust the weight of each property."
   ]
  },
  {
   "cell_type": "code",
   "execution_count": null,
   "metadata": {},
   "outputs": [],
   "source": [
    "import pandas as pd\n",
    "import numpy as np\n",
    "from config import config\n",
    "import h5py"
   ]
  },
  {
   "cell_type": "code",
   "execution_count": null,
   "metadata": {},
   "outputs": [],
   "source": [
    "df = pd.read_csv(config['file_path']['train_df_path'])\n",
    "h5py_read = h5py.File(config['file_path']['h5py_path'], 'r')\n",
    "pair_idx = {'vdw':0, 'hbbb':1, 'hbsb':2, 'hbss':3, 'hp':4, 'sb':5, 'pc':6, 'ps':7, 'ts':8, 'corr':9}"
   ]
  },
  {
   "cell_type": "code",
   "execution_count": 75,
   "metadata": {},
   "outputs": [],
   "source": [
    "def get_feature_dict(res_feat, pair_feat, pair_idx, source):\n",
    "    feat_all = {}\n",
    "    if 'proteinflow' not in source:\n",
    "        rmsf_feat = res_feat[:, 2]\n",
    "        valid_mask = (rmsf_feat != -1)\n",
    "\n",
    "        feat_all['rmsf_nor'] = (rmsf_feat / rmsf_feat.max())[valid_mask]\n",
    "        feat_all['sasa_mean'] = res_feat[:, 0][valid_mask]\n",
    "        feat_all['sasa_std'] = res_feat[:, 1][valid_mask]\n",
    "        feat_all['ss'] = res_feat[:, 3:11][valid_mask]\n",
    "        feat_all['chi'] = res_feat[:, 11:23][valid_mask]\n",
    "        feat_all['phi'] = res_feat[:, 23:35][valid_mask]\n",
    "        feat_all['psi'] = res_feat[:, 35:47][valid_mask]\n",
    "\n",
    "        for i in pair_idx:\n",
    "            f = pair_feat[:, :, pair_idx[i]]\n",
    "            feat_all[i] = f[f != -1]\n",
    "\n",
    "    else:\n",
    "        for k in range(3):\n",
    "            res_f = res_feat[:, k]\n",
    "            pair_f = pair_feat[:, :, k]\n",
    "            feat_all[f'nma_res{k+1}'] = res_f[res_f != -1]\n",
    "            feat_all[f'nma_pair{k+1}'] = pair_f[pair_f != -1] \n",
    "\n",
    "    return feat_all"
   ]
  },
  {
   "cell_type": "code",
   "execution_count": 95,
   "metadata": {},
   "outputs": [],
   "source": [
    "for i in df.index:\n",
    "    name = df.loc[i, 'name']\n",
    "    res_feat = h5py_read[f'{name}_res_feature'][:]\n",
    "    pair_feat = h5py_read[f'{name}_pair_feature'][:]\n",
    "\n",
    "    feat_all = get_feature_dict(res_feat, pair_feat, pair_idx, df.loc[i, 'source'])\n",
    "    \n",
    "    # print(i)\n",
    "    for j in feat_all:\n",
    "        if j in ['ss', 'chi', 'phi', 'psi']:\n",
    "            df.loc[i, j] = feat_all[j].var(axis=0).mean()\n",
    "        else:\n",
    "            df.loc[i, j] = ((feat_all[j] - feat_all[j].mean())**2).mean()"
   ]
  },
  {
   "cell_type": "code",
   "execution_count": null,
   "metadata": {},
   "outputs": [],
   "source": [
    "df.to_csv('feature_var.csv', index=False)"
   ]
  },
  {
   "cell_type": "markdown",
   "metadata": {},
   "source": [
    "### get weights\n",
    "use RMSE as this value is comparable"
   ]
  },
  {
   "cell_type": "code",
   "execution_count": null,
   "metadata": {},
   "outputs": [],
   "source": [
    "df = pd.read_csv('/nfs/user/Users/ch3849/ProDance/data_new/train_data_all/feature_var.csv')\n",
    "# convert MSE to RMSE\n",
    "df.iloc[:,7:] = np.sqrt(df.iloc[:,7:])"
   ]
  },
  {
   "cell_type": "code",
   "execution_count": null,
   "metadata": {},
   "outputs": [],
   "source": [
    "rmse = df[df['label'] == 'train'][['source'] + list(df.columns[7:])].groupby('source').mean().T\n",
    "rmse['ATLAS_GPCRmd_PED_mdCATH'] = df[(df['label'] == 'train') & (df['source'].isin(['ATLAS', 'GPCRmd', 'PED', 'mdCATH']))].describe().loc['mean']\n",
    "rmse['Proteinflow'] = df[(df['label'] == 'train') & (df['source'].str.contains('proteinflow'))].describe().loc['mean']"
   ]
  },
  {
   "cell_type": "code",
   "execution_count": null,
   "metadata": {},
   "outputs": [],
   "source": [
    "rmse.to_excel('source_feature_rmse.xlsx')"
   ]
  }
 ],
 "metadata": {
  "kernelspec": {
   "display_name": "base",
   "language": "python",
   "name": "python3"
  },
  "language_info": {
   "codemirror_mode": {
    "name": "ipython",
    "version": 3
   },
   "file_extension": ".py",
   "mimetype": "text/x-python",
   "name": "python",
   "nbconvert_exporter": "python",
   "pygments_lexer": "ipython3",
   "version": "3.12.2"
  }
 },
 "nbformat": 4,
 "nbformat_minor": 2
}
